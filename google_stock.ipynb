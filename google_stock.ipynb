{
 "cells": [
  {
   "cell_type": "code",
   "execution_count": 1,
   "id": "d2ed704e-0a59-44ce-ac4f-66bbf7f9cfcf",
   "metadata": {},
   "outputs": [],
   "source": [
    "import pandas as pd\n",
    "import math , datetime\n",
    "import numpy as np\n",
    "from sklearn import preprocessing, svm\n",
    "from sklearn.linear_model import LinearRegression\n",
    "from sklearn.model_selection import train_test_split\n",
    "import matplotlib.pyplot as plt\n",
    "from matplotlib import style"
   ]
  },
  {
   "cell_type": "code",
   "execution_count": 2,
   "id": "682854f4-ffc1-4759-9c13-e229bfb0d7dd",
   "metadata": {},
   "outputs": [],
   "source": [
    "style.use('ggplot')"
   ]
  },
  {
   "cell_type": "code",
   "execution_count": 3,
   "id": "086154d7-491a-44f0-879b-cc0d2e283890",
   "metadata": {},
   "outputs": [],
   "source": [
    "df=pd.read_csv('GOOGL.csv')"
   ]
  },
  {
   "cell_type": "code",
   "execution_count": 4,
   "id": "4a2e4f46-a6d7-43ba-8063-64ce35979050",
   "metadata": {},
   "outputs": [
    {
     "data": {
      "text/html": [
       "<div>\n",
       "<style scoped>\n",
       "    .dataframe tbody tr th:only-of-type {\n",
       "        vertical-align: middle;\n",
       "    }\n",
       "\n",
       "    .dataframe tbody tr th {\n",
       "        vertical-align: top;\n",
       "    }\n",
       "\n",
       "    .dataframe thead th {\n",
       "        text-align: right;\n",
       "    }\n",
       "</style>\n",
       "<table border=\"1\" class=\"dataframe\">\n",
       "  <thead>\n",
       "    <tr style=\"text-align: right;\">\n",
       "      <th></th>\n",
       "      <th>Date</th>\n",
       "      <th>Open</th>\n",
       "      <th>High</th>\n",
       "      <th>Low</th>\n",
       "      <th>Close</th>\n",
       "      <th>Adj Close</th>\n",
       "      <th>Volume</th>\n",
       "    </tr>\n",
       "  </thead>\n",
       "  <tbody>\n",
       "    <tr>\n",
       "      <th>0</th>\n",
       "      <td>2004-08-19</td>\n",
       "      <td>50.050049</td>\n",
       "      <td>52.082081</td>\n",
       "      <td>48.028027</td>\n",
       "      <td>50.220219</td>\n",
       "      <td>50.220219</td>\n",
       "      <td>44659096</td>\n",
       "    </tr>\n",
       "    <tr>\n",
       "      <th>1</th>\n",
       "      <td>2004-08-20</td>\n",
       "      <td>50.555557</td>\n",
       "      <td>54.594597</td>\n",
       "      <td>50.300301</td>\n",
       "      <td>54.209209</td>\n",
       "      <td>54.209209</td>\n",
       "      <td>22834343</td>\n",
       "    </tr>\n",
       "    <tr>\n",
       "      <th>2</th>\n",
       "      <td>2004-08-23</td>\n",
       "      <td>55.430431</td>\n",
       "      <td>56.796799</td>\n",
       "      <td>54.579578</td>\n",
       "      <td>54.754753</td>\n",
       "      <td>54.754753</td>\n",
       "      <td>18256126</td>\n",
       "    </tr>\n",
       "    <tr>\n",
       "      <th>3</th>\n",
       "      <td>2004-08-24</td>\n",
       "      <td>55.675674</td>\n",
       "      <td>55.855858</td>\n",
       "      <td>51.836838</td>\n",
       "      <td>52.487488</td>\n",
       "      <td>52.487488</td>\n",
       "      <td>15247337</td>\n",
       "    </tr>\n",
       "    <tr>\n",
       "      <th>4</th>\n",
       "      <td>2004-08-25</td>\n",
       "      <td>52.532532</td>\n",
       "      <td>54.054054</td>\n",
       "      <td>51.991993</td>\n",
       "      <td>53.053055</td>\n",
       "      <td>53.053055</td>\n",
       "      <td>9188602</td>\n",
       "    </tr>\n",
       "  </tbody>\n",
       "</table>\n",
       "</div>"
      ],
      "text/plain": [
       "         Date       Open       High        Low      Close  Adj Close    Volume\n",
       "0  2004-08-19  50.050049  52.082081  48.028027  50.220219  50.220219  44659096\n",
       "1  2004-08-20  50.555557  54.594597  50.300301  54.209209  54.209209  22834343\n",
       "2  2004-08-23  55.430431  56.796799  54.579578  54.754753  54.754753  18256126\n",
       "3  2004-08-24  55.675674  55.855858  51.836838  52.487488  52.487488  15247337\n",
       "4  2004-08-25  52.532532  54.054054  51.991993  53.053055  53.053055   9188602"
      ]
     },
     "execution_count": 4,
     "metadata": {},
     "output_type": "execute_result"
    }
   ],
   "source": [
    "df.head()"
   ]
  },
  {
   "cell_type": "code",
   "execution_count": 5,
   "id": "66fe0cbe-b1d7-47b6-af36-ed720e300c8a",
   "metadata": {},
   "outputs": [
    {
     "data": {
      "text/html": [
       "<div>\n",
       "<style scoped>\n",
       "    .dataframe tbody tr th:only-of-type {\n",
       "        vertical-align: middle;\n",
       "    }\n",
       "\n",
       "    .dataframe tbody tr th {\n",
       "        vertical-align: top;\n",
       "    }\n",
       "\n",
       "    .dataframe thead th {\n",
       "        text-align: right;\n",
       "    }\n",
       "</style>\n",
       "<table border=\"1\" class=\"dataframe\">\n",
       "  <thead>\n",
       "    <tr style=\"text-align: right;\">\n",
       "      <th></th>\n",
       "      <th>Open</th>\n",
       "      <th>High</th>\n",
       "      <th>Low</th>\n",
       "      <th>Close</th>\n",
       "      <th>Adj Close</th>\n",
       "      <th>Volume</th>\n",
       "    </tr>\n",
       "  </thead>\n",
       "  <tbody>\n",
       "    <tr>\n",
       "      <th>count</th>\n",
       "      <td>4431.000000</td>\n",
       "      <td>4431.000000</td>\n",
       "      <td>4431.000000</td>\n",
       "      <td>4431.000000</td>\n",
       "      <td>4431.000000</td>\n",
       "      <td>4.431000e+03</td>\n",
       "    </tr>\n",
       "    <tr>\n",
       "      <th>mean</th>\n",
       "      <td>693.087345</td>\n",
       "      <td>699.735595</td>\n",
       "      <td>686.078751</td>\n",
       "      <td>693.097367</td>\n",
       "      <td>693.097367</td>\n",
       "      <td>6.444992e+06</td>\n",
       "    </tr>\n",
       "    <tr>\n",
       "      <th>std</th>\n",
       "      <td>645.118799</td>\n",
       "      <td>651.331215</td>\n",
       "      <td>638.579488</td>\n",
       "      <td>645.187806</td>\n",
       "      <td>645.187806</td>\n",
       "      <td>7.690351e+06</td>\n",
       "    </tr>\n",
       "    <tr>\n",
       "      <th>min</th>\n",
       "      <td>49.644646</td>\n",
       "      <td>50.920921</td>\n",
       "      <td>48.028027</td>\n",
       "      <td>50.055054</td>\n",
       "      <td>50.055054</td>\n",
       "      <td>4.656000e+05</td>\n",
       "    </tr>\n",
       "    <tr>\n",
       "      <th>25%</th>\n",
       "      <td>248.558563</td>\n",
       "      <td>250.853355</td>\n",
       "      <td>245.813309</td>\n",
       "      <td>248.415916</td>\n",
       "      <td>248.415916</td>\n",
       "      <td>1.695600e+06</td>\n",
       "    </tr>\n",
       "    <tr>\n",
       "      <th>50%</th>\n",
       "      <td>434.924927</td>\n",
       "      <td>437.887878</td>\n",
       "      <td>432.687683</td>\n",
       "      <td>435.330322</td>\n",
       "      <td>435.330322</td>\n",
       "      <td>3.778418e+06</td>\n",
       "    </tr>\n",
       "    <tr>\n",
       "      <th>75%</th>\n",
       "      <td>1007.364990</td>\n",
       "      <td>1020.649994</td>\n",
       "      <td>997.274994</td>\n",
       "      <td>1007.790008</td>\n",
       "      <td>1007.790008</td>\n",
       "      <td>8.002390e+06</td>\n",
       "    </tr>\n",
       "    <tr>\n",
       "      <th>max</th>\n",
       "      <td>3025.000000</td>\n",
       "      <td>3030.929932</td>\n",
       "      <td>2977.979980</td>\n",
       "      <td>2996.770020</td>\n",
       "      <td>2996.770020</td>\n",
       "      <td>8.215117e+07</td>\n",
       "    </tr>\n",
       "  </tbody>\n",
       "</table>\n",
       "</div>"
      ],
      "text/plain": [
       "              Open         High          Low        Close    Adj Close  \\\n",
       "count  4431.000000  4431.000000  4431.000000  4431.000000  4431.000000   \n",
       "mean    693.087345   699.735595   686.078751   693.097367   693.097367   \n",
       "std     645.118799   651.331215   638.579488   645.187806   645.187806   \n",
       "min      49.644646    50.920921    48.028027    50.055054    50.055054   \n",
       "25%     248.558563   250.853355   245.813309   248.415916   248.415916   \n",
       "50%     434.924927   437.887878   432.687683   435.330322   435.330322   \n",
       "75%    1007.364990  1020.649994   997.274994  1007.790008  1007.790008   \n",
       "max    3025.000000  3030.929932  2977.979980  2996.770020  2996.770020   \n",
       "\n",
       "             Volume  \n",
       "count  4.431000e+03  \n",
       "mean   6.444992e+06  \n",
       "std    7.690351e+06  \n",
       "min    4.656000e+05  \n",
       "25%    1.695600e+06  \n",
       "50%    3.778418e+06  \n",
       "75%    8.002390e+06  \n",
       "max    8.215117e+07  "
      ]
     },
     "execution_count": 5,
     "metadata": {},
     "output_type": "execute_result"
    }
   ],
   "source": [
    "df.describe()"
   ]
  },
  {
   "cell_type": "code",
   "execution_count": 6,
   "id": "ef333791-ce8e-43b9-ba71-ef9f6f19e1b7",
   "metadata": {},
   "outputs": [
    {
     "name": "stdout",
     "output_type": "stream",
     "text": [
      "         Date       Open       High        Low      Close  Adj Close    Volume\n",
      "0  2004-08-19  50.050049  52.082081  48.028027  50.220219  50.220219  44659096\n",
      "1  2004-08-20  50.555557  54.594597  50.300301  54.209209  54.209209  22834343\n",
      "2  2004-08-23  55.430431  56.796799  54.579578  54.754753  54.754753  18256126\n",
      "3  2004-08-24  55.675674  55.855858  51.836838  52.487488  52.487488  15247337\n",
      "4  2004-08-25  52.532532  54.054054  51.991993  53.053055  53.053055   9188602\n"
     ]
    }
   ],
   "source": [
    "print(df.head())"
   ]
  },
  {
   "cell_type": "code",
   "execution_count": 7,
   "id": "17a76ea5-f395-43a2-ac6f-3ab2d3f9e133",
   "metadata": {},
   "outputs": [
    {
     "name": "stdout",
     "output_type": "stream",
     "text": [
      "   Adj Close    HL_PCT  PCT_change    Volume\n",
      "0  50.220219  3.707395    0.340000  44659096\n",
      "1  54.209209  0.710927    7.227004  22834343\n",
      "2  54.754753  3.729441   -1.218966  18256126\n",
      "3  52.487488  6.417472   -5.726354  15247337\n",
      "4  53.053055  1.886789    0.990858   9188602\n"
     ]
    }
   ],
   "source": [
    " df['HL_PCT'] = (df['High'] - df['Adj Close']) / df['Adj Close'] * 100.0\n",
    " df['PCT_change'] = (df['Adj Close'] - df['Open']) / df['Open'] * 100.0\n",
    "df = df[['Adj Close','HL_PCT','PCT_change','Volume']]\n",
    "print(df.head())"
   ]
  },
  {
   "cell_type": "code",
   "execution_count": 8,
   "id": "5757f9cb-eda1-4831-ab7a-13e875ddc0fe",
   "metadata": {},
   "outputs": [],
   "source": [
    "forecast_col = 'Adj Close'"
   ]
  },
  {
   "cell_type": "code",
   "execution_count": 9,
   "id": "87a8851e-ff45-4618-9bd9-a5165d888b9b",
   "metadata": {},
   "outputs": [],
   "source": [
    "df.fillna(-99999,inplace=True)"
   ]
  },
  {
   "cell_type": "code",
   "execution_count": 10,
   "id": "3c062d13-313f-4289-8b29-d383a73945ce",
   "metadata": {},
   "outputs": [
    {
     "name": "stdout",
     "output_type": "stream",
     "text": [
      "45\n"
     ]
    }
   ],
   "source": [
    "forecast_out = int(math.ceil(0.01*len(df)))\n",
    "print(forecast_out)"
   ]
  },
  {
   "cell_type": "code",
   "execution_count": 11,
   "id": "75150745-76b0-4865-a823-20a13fbe4840",
   "metadata": {},
   "outputs": [],
   "source": [
    "df['label'] = df[forecast_col].shift(-forecast_out)"
   ]
  },
  {
   "cell_type": "code",
   "execution_count": 12,
   "id": "53e3dc40-8c3a-4080-ad7b-9acf4d5bfbfb",
   "metadata": {},
   "outputs": [
    {
     "name": "stdout",
     "output_type": "stream",
     "text": [
      "   Adj Close    HL_PCT  PCT_change    Volume      label\n",
      "0  50.220219  3.707395    0.340000  44659096  86.301300\n",
      "1  54.209209  0.710927    7.227004  22834343  93.793793\n",
      "2  54.754753  3.729441   -1.218966  18256126  90.990990\n",
      "3  52.487488  6.417472   -5.726354  15247337  93.078079\n",
      "4  53.053055  1.886789    0.990858   9188602  96.746750\n"
     ]
    }
   ],
   "source": [
    "df.dropna(inplace=True)\n",
    "print(df.head())"
   ]
  },
  {
   "cell_type": "code",
   "execution_count": 13,
   "id": "517e07e6-570e-48da-9e8b-70b855ab949c",
   "metadata": {},
   "outputs": [],
   "source": [
    "X = np.array(df.drop('label', axis=1))\n",
    "df.dropna(inplace=True)\n",
    "y=np.array(df['label'])\n"
   ]
  },
  {
   "cell_type": "code",
   "execution_count": 14,
   "id": "8bef5f14-6f10-4947-a68e-a31bfd4e1fbf",
   "metadata": {},
   "outputs": [
    {
     "name": "stdout",
     "output_type": "stream",
     "text": [
      "4386 4386\n"
     ]
    }
   ],
   "source": [
    "y= np.array(df['label'])\n",
    "print(len(X),len(y))"
   ]
  },
  {
   "cell_type": "code",
   "execution_count": 15,
   "id": "0ceebeb3-b6a5-42a8-b9e6-0dd41536f39a",
   "metadata": {},
   "outputs": [
    {
     "name": "stdout",
     "output_type": "stream",
     "text": [
      "(4386, 4) (4386,)\n"
     ]
    }
   ],
   "source": [
    "print(X.shape,y.shape)"
   ]
  },
  {
   "cell_type": "code",
   "execution_count": 16,
   "id": "e776964e-2bd1-40ad-9038-2e647c4578cc",
   "metadata": {},
   "outputs": [],
   "source": [
    "X_train, X_test, y_train, y_test = train_test_split(X, y, test_size=0.2)\n"
   ]
  },
  {
   "cell_type": "code",
   "execution_count": 17,
   "id": "a9695568-3d74-469a-9b11-287183a271ea",
   "metadata": {},
   "outputs": [],
   "source": [
    "\n",
    "X_subset = X[:-forecast_out]\n",
    "X_lately = X[-forecast_out:]\n",
    "X_train_scaled= preprocessing.scale(X_subset)"
   ]
  },
  {
   "cell_type": "code",
   "execution_count": 18,
   "id": "ff21cc4b-2506-4178-9333-7d28338ff09d",
   "metadata": {},
   "outputs": [
    {
     "data": {
      "text/html": [
       "<style>#sk-container-id-1 {color: black;}#sk-container-id-1 pre{padding: 0;}#sk-container-id-1 div.sk-toggleable {background-color: white;}#sk-container-id-1 label.sk-toggleable__label {cursor: pointer;display: block;width: 100%;margin-bottom: 0;padding: 0.3em;box-sizing: border-box;text-align: center;}#sk-container-id-1 label.sk-toggleable__label-arrow:before {content: \"▸\";float: left;margin-right: 0.25em;color: #696969;}#sk-container-id-1 label.sk-toggleable__label-arrow:hover:before {color: black;}#sk-container-id-1 div.sk-estimator:hover label.sk-toggleable__label-arrow:before {color: black;}#sk-container-id-1 div.sk-toggleable__content {max-height: 0;max-width: 0;overflow: hidden;text-align: left;background-color: #f0f8ff;}#sk-container-id-1 div.sk-toggleable__content pre {margin: 0.2em;color: black;border-radius: 0.25em;background-color: #f0f8ff;}#sk-container-id-1 input.sk-toggleable__control:checked~div.sk-toggleable__content {max-height: 200px;max-width: 100%;overflow: auto;}#sk-container-id-1 input.sk-toggleable__control:checked~label.sk-toggleable__label-arrow:before {content: \"▾\";}#sk-container-id-1 div.sk-estimator input.sk-toggleable__control:checked~label.sk-toggleable__label {background-color: #d4ebff;}#sk-container-id-1 div.sk-label input.sk-toggleable__control:checked~label.sk-toggleable__label {background-color: #d4ebff;}#sk-container-id-1 input.sk-hidden--visually {border: 0;clip: rect(1px 1px 1px 1px);clip: rect(1px, 1px, 1px, 1px);height: 1px;margin: -1px;overflow: hidden;padding: 0;position: absolute;width: 1px;}#sk-container-id-1 div.sk-estimator {font-family: monospace;background-color: #f0f8ff;border: 1px dotted black;border-radius: 0.25em;box-sizing: border-box;margin-bottom: 0.5em;}#sk-container-id-1 div.sk-estimator:hover {background-color: #d4ebff;}#sk-container-id-1 div.sk-parallel-item::after {content: \"\";width: 100%;border-bottom: 1px solid gray;flex-grow: 1;}#sk-container-id-1 div.sk-label:hover label.sk-toggleable__label {background-color: #d4ebff;}#sk-container-id-1 div.sk-serial::before {content: \"\";position: absolute;border-left: 1px solid gray;box-sizing: border-box;top: 0;bottom: 0;left: 50%;z-index: 0;}#sk-container-id-1 div.sk-serial {display: flex;flex-direction: column;align-items: center;background-color: white;padding-right: 0.2em;padding-left: 0.2em;position: relative;}#sk-container-id-1 div.sk-item {position: relative;z-index: 1;}#sk-container-id-1 div.sk-parallel {display: flex;align-items: stretch;justify-content: center;background-color: white;position: relative;}#sk-container-id-1 div.sk-item::before, #sk-container-id-1 div.sk-parallel-item::before {content: \"\";position: absolute;border-left: 1px solid gray;box-sizing: border-box;top: 0;bottom: 0;left: 50%;z-index: -1;}#sk-container-id-1 div.sk-parallel-item {display: flex;flex-direction: column;z-index: 1;position: relative;background-color: white;}#sk-container-id-1 div.sk-parallel-item:first-child::after {align-self: flex-end;width: 50%;}#sk-container-id-1 div.sk-parallel-item:last-child::after {align-self: flex-start;width: 50%;}#sk-container-id-1 div.sk-parallel-item:only-child::after {width: 0;}#sk-container-id-1 div.sk-dashed-wrapped {border: 1px dashed gray;margin: 0 0.4em 0.5em 0.4em;box-sizing: border-box;padding-bottom: 0.4em;background-color: white;}#sk-container-id-1 div.sk-label label {font-family: monospace;font-weight: bold;display: inline-block;line-height: 1.2em;}#sk-container-id-1 div.sk-label-container {text-align: center;}#sk-container-id-1 div.sk-container {/* jupyter's `normalize.less` sets `[hidden] { display: none; }` but bootstrap.min.css set `[hidden] { display: none !important; }` so we also need the `!important` here to be able to override the default hidden behavior on the sphinx rendered scikit-learn.org. See: https://github.com/scikit-learn/scikit-learn/issues/21755 */display: inline-block !important;position: relative;}#sk-container-id-1 div.sk-text-repr-fallback {display: none;}</style><div id=\"sk-container-id-1\" class=\"sk-top-container\"><div class=\"sk-text-repr-fallback\"><pre>LinearRegression()</pre><b>In a Jupyter environment, please rerun this cell to show the HTML representation or trust the notebook. <br />On GitHub, the HTML representation is unable to render, please try loading this page with nbviewer.org.</b></div><div class=\"sk-container\" hidden><div class=\"sk-item\"><div class=\"sk-estimator sk-toggleable\"><input class=\"sk-toggleable__control sk-hidden--visually\" id=\"sk-estimator-id-1\" type=\"checkbox\" checked><label for=\"sk-estimator-id-1\" class=\"sk-toggleable__label sk-toggleable__label-arrow\">LinearRegression</label><div class=\"sk-toggleable__content\"><pre>LinearRegression()</pre></div></div></div></div></div>"
      ],
      "text/plain": [
       "LinearRegression()"
      ]
     },
     "execution_count": 18,
     "metadata": {},
     "output_type": "execute_result"
    }
   ],
   "source": [
    "clf= LinearRegression()\n",
    "clf.fit(X_train, y_train)\n"
   ]
  },
  {
   "cell_type": "code",
   "execution_count": 19,
   "id": "a1b6e858-23d3-4ec2-a876-6ed08cc1c886",
   "metadata": {},
   "outputs": [],
   "source": [
    "accuracy = clf.score(X_test , y_test)"
   ]
  },
  {
   "cell_type": "code",
   "execution_count": 20,
   "id": "02e6d89c-404e-4f3e-9dae-3cb549e741cd",
   "metadata": {},
   "outputs": [
    {
     "name": "stdout",
     "output_type": "stream",
     "text": [
      "0.9827197876399514\n"
     ]
    }
   ],
   "source": [
    "print(accuracy)"
   ]
  },
  {
   "cell_type": "code",
   "execution_count": 21,
   "id": "de10329f-46ed-4eab-9ed9-8509fff7bd3a",
   "metadata": {},
   "outputs": [
    {
     "name": "stdout",
     "output_type": "stream",
     "text": [
      "45\n"
     ]
    }
   ],
   "source": [
    "print(forecast_out)"
   ]
  },
  {
   "cell_type": "code",
   "execution_count": 22,
   "id": "4ac7d9a4-53ef-4939-8772-a4f08b6c96b7",
   "metadata": {},
   "outputs": [
    {
     "name": "stdout",
     "output_type": "stream",
     "text": [
      "[3072.81298309 3060.22045194 3062.11985273 3104.77955916 3086.67146387\n",
      " 3036.83651999 3016.33506352 3021.72758281 2946.74936376 3016.07300911\n",
      " 2949.55244221 2938.5269656  2964.85600724 2944.26201136 2962.25378091\n",
      " 3048.98525131 3064.51995127 3059.95794634 3061.92520452 3021.02731202\n",
      " 2976.0860795  3036.14543553 2997.41270664 2939.01874843 2931.51260356\n",
      " 2970.91430169 3035.67927248 3045.18699806 3060.76748871 3036.73877308\n",
      " 3035.08781518 3026.5233136  3001.53617575 3000.78301901 2994.06848364\n",
      " 2872.47012598 2863.15665279 2836.865653   2876.78409671 2895.45786263\n",
      " 2930.69672042 2883.58781929 2897.88975268 2816.59422491 2807.08675253] 0.9827197876399514 45\n"
     ]
    }
   ],
   "source": [
    "forecast_set = clf.predict(X_lately)\n",
    "print(forecast_set,accuracy,forecast_out)"
   ]
  },
  {
   "cell_type": "code",
   "execution_count": 23,
   "id": "6298bbde-f212-484a-8294-80e0366b7a2a",
   "metadata": {},
   "outputs": [],
   "source": [
    "df['Forecast'] = np.nan"
   ]
  },
  {
   "cell_type": "code",
   "execution_count": 24,
   "id": "cedc1082-dfb4-4085-ad7d-187334027915",
   "metadata": {},
   "outputs": [],
   "source": [
    "last_date = df.iloc[-1].name\n",
    "last_date_datetime = pd.to_datetime(last_date, unit='s')\n",
    "last_unix = last_date_datetime.timestamp()\n",
    "one_day = 86400\n",
    "next_unix = last_unix + one_day"
   ]
  },
  {
   "cell_type": "code",
   "execution_count": 27,
   "id": "826a56f3-2e08-4d73-b49c-ef269f7c1acb",
   "metadata": {},
   "outputs": [],
   "source": [
    "for i in forecast_set :\n",
    "    next_date = datetime.datetime.fromtimestamp(next_unix)\n",
    "    next_unix += one_day\n",
    "    df.loc[next_date] = [np.nan for _ in range(len(df.columns)-1)] + [i]"
   ]
  },
  {
   "cell_type": "code",
   "execution_count": 38,
   "id": "dcbdc1cf-db13-4e51-837e-d578139e71a8",
   "metadata": {},
   "outputs": [
    {
     "name": "stdout",
     "output_type": "stream",
     "text": [
      "   Adj Close    HL_PCT  PCT_change      Volume      label  Forecast\n",
      "0  50.220219  3.707395    0.340000  44659096.0  86.301300       NaN\n",
      "1  54.209209  0.710927    7.227004  22834343.0  93.793793       NaN\n",
      "2  54.754753  3.729441   -1.218966  18256126.0  90.990990       NaN\n",
      "3  52.487488  6.417472   -5.726354  15247337.0  93.078079       NaN\n",
      "4  53.053055  1.886789    0.990858   9188602.0  96.746750       NaN\n"
     ]
    }
   ],
   "source": [
    "print(df.head())"
   ]
  },
  {
   "cell_type": "code",
   "execution_count": 36,
   "id": "916a83c1-0fe9-4475-9ce0-7c5f1027d03e",
   "metadata": {},
   "outputs": [
    {
     "data": {
      "image/png": "[encoded data removed]",
      "text/plain": [
       "<Figure size 640x480 with 1 Axes>"
      ]
     },
     "metadata": {},
     "output_type": "display_data"
    }
   ],
   "source": [
    "df['Adj Close'].plot()\n",
    "df['Forecast'].plot()\n",
    "# plt.legend(loc=4)\n",
    "# plt.xlabel('Date')\n",
    "# plt.ylabel('price')\n",
    "# plt.figure(figsize=(20, 10))\n",
    "plt.legend(loc=4)  # Adds a legend\n",
    "plt.grid(True)  # Adds grid lines\n",
    "plt.title('Stock')  # Adds a title\n",
    "plt.xlabel('Data')  # Adds an x-axis label\n",
    "plt.ylabel('price')  # Adds a y-axis label\n",
    "\n",
    "\n",
    "\n",
    "plt.show()"
   ]
  },
  {
   "cell_type": "code",
   "execution_count": 37,
   "id": "112d2e0b-e43a-4c5a-99b8-3ee1dece6a56",
   "metadata": {},
   "outputs": [
    {
     "data": {
      "text/html": [
       "<div>\n",
       "<style scoped>\n",
       "    .dataframe tbody tr th:only-of-type {\n",
       "        vertical-align: middle;\n",
       "    }\n",
       "\n",
       "    .dataframe tbody tr th {\n",
       "        vertical-align: top;\n",
       "    }\n",
       "\n",
       "    .dataframe thead th {\n",
       "        text-align: right;\n",
       "    }\n",
       "</style>\n",
       "<table border=\"1\" class=\"dataframe\">\n",
       "  <thead>\n",
       "    <tr style=\"text-align: right;\">\n",
       "      <th></th>\n",
       "      <th>Adj Close</th>\n",
       "      <th>HL_PCT</th>\n",
       "      <th>PCT_change</th>\n",
       "      <th>Volume</th>\n",
       "      <th>label</th>\n",
       "      <th>Forecast</th>\n",
       "    </tr>\n",
       "  </thead>\n",
       "  <tbody>\n",
       "    <tr>\n",
       "      <th>0</th>\n",
       "      <td>50.220219</td>\n",
       "      <td>3.707395</td>\n",
       "      <td>0.340000</td>\n",
       "      <td>44659096.0</td>\n",
       "      <td>86.301300</td>\n",
       "      <td>NaN</td>\n",
       "    </tr>\n",
       "    <tr>\n",
       "      <th>1</th>\n",
       "      <td>54.209209</td>\n",
       "      <td>0.710927</td>\n",
       "      <td>7.227004</td>\n",
       "      <td>22834343.0</td>\n",
       "      <td>93.793793</td>\n",
       "      <td>NaN</td>\n",
       "    </tr>\n",
       "    <tr>\n",
       "      <th>2</th>\n",
       "      <td>54.754753</td>\n",
       "      <td>3.729441</td>\n",
       "      <td>-1.218966</td>\n",
       "      <td>18256126.0</td>\n",
       "      <td>90.990990</td>\n",
       "      <td>NaN</td>\n",
       "    </tr>\n",
       "    <tr>\n",
       "      <th>3</th>\n",
       "      <td>52.487488</td>\n",
       "      <td>6.417472</td>\n",
       "      <td>-5.726354</td>\n",
       "      <td>15247337.0</td>\n",
       "      <td>93.078079</td>\n",
       "      <td>NaN</td>\n",
       "    </tr>\n",
       "    <tr>\n",
       "      <th>4</th>\n",
       "      <td>53.053055</td>\n",
       "      <td>1.886789</td>\n",
       "      <td>0.990858</td>\n",
       "      <td>9188602.0</td>\n",
       "      <td>96.746750</td>\n",
       "      <td>NaN</td>\n",
       "    </tr>\n",
       "  </tbody>\n",
       "</table>\n",
       "</div>"
      ],
      "text/plain": [
       "   Adj Close    HL_PCT  PCT_change      Volume      label  Forecast\n",
       "0  50.220219  3.707395    0.340000  44659096.0  86.301300       NaN\n",
       "1  54.209209  0.710927    7.227004  22834343.0  93.793793       NaN\n",
       "2  54.754753  3.729441   -1.218966  18256126.0  90.990990       NaN\n",
       "3  52.487488  6.417472   -5.726354  15247337.0  93.078079       NaN\n",
       "4  53.053055  1.886789    0.990858   9188602.0  96.746750       NaN"
      ]
     },
     "execution_count": 37,
     "metadata": {},
     "output_type": "execute_result"
    }
   ],
   "source": [
    "df.head()"
   ]
  },
  {
   "cell_type": "code",
   "execution_count": null,
   "id": "440694d1-8dc0-4d00-9627-77a6fe144c5c",
   "metadata": {},
   "outputs": [],
   "source": []
  }
 ],
 "metadata": {
  "kernelspec": {
   "display_name": "Python 3 (ipykernel)",
   "language": "python",
   "name": "python3"
  },
  "language_info": {
   "codemirror_mode": {
    "name": "ipython",
    "version": 3
   },
   "file_extension": ".py",
   "mimetype": "text/x-python",
   "name": "python",
   "nbconvert_exporter": "python",
   "pygments_lexer": "ipython3",
   "version": "3.11.5"
  }
 },
 "nbformat": 4,
 "nbformat_minor": 5
}
